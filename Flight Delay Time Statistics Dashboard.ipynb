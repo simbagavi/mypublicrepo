{
  "metadata": {
    "kernelspec": {
      "name": "python",
      "display_name": "Python (Pyodide)",
      "language": "python"
    },
    "language_info": {
      "codemirror_mode": {
        "name": "python",
        "version": 3
      },
      "file_extension": ".py",
      "mimetype": "text/x-python",
      "name": "python",
      "nbconvert_exporter": "python",
      "pygments_lexer": "ipython3",
      "version": "3.8"
    }
  },
  "nbformat_minor": 4,
  "nbformat": 4,
  "cells": [
    {
      "cell_type": "code",
      "source": "# Import required libraries\nimport pandas as pd\nimport dash\nfrom dash import dcc\nfrom dash import html\nfrom dash.dependencies import Input, Output\nimport plotly.express as px\n\n# Read the airline data into pandas dataframe\nairline_data =  pd.read_csv('https://cf-courses-data.s3.us.cloud-object-storage.appdomain.cloud/IBMDeveloperSkillsNetwork-DV0101EN-SkillsNetwork/Data%20Files/airline_data.csv', \n                            encoding = \"ISO-8859-1\",\n                            dtype={'Div1Airport': str, 'Div1TailNum': str, \n                                   'Div2Airport': str, 'Div2TailNum': str})\n\n# Create a dash application\napp = dash.Dash(__name__)\n# Build dash app layout\napp.layout = html.Div(children=[ html.H1('Flight Delay Time Statistics', \n                                style={'textAlign': 'center', 'color': '#503D36',\n                                'font-size': 30}),\n                                html.Div([\"Input Year: \", dcc.Input(id='input-year', value='2010', \n                                type='number', style={'height':'35px', 'font-size': 30}),], \n                                style={'font-size': 30}),\n                                html.Br(),\n                                html.Br(), \n                                # Segment 1\n                                html.Div([\n                                        html.Div(dcc.Graph(id='carrier-plot')),\n                                        html.Div(dcc.Graph(id='weather-plot'))\n                                ], style={'display': 'flex'}),\n                                # Segment 2\n                                html.Div([\n                                        html.Div(dcc.Graph(id='nas-plot')),\n                                        html.Div(dcc.Graph(id='security-plot'))\n                                ], style={'display': 'flex'}),\n                                # Segment 3\n                                html.Div(dcc.Graph(id='late-plot'), style={'width':'65%'})\n                                ])\n\n\n\"\"\" Compute_info function description\n\nThis function takes in airline data and selected year as an input and performs computation for creating charts and plots.\n\nArguments:\n    airline_data: Input airline data.\n    entered_year: Input year for which computation needs to be performed.\n    \nReturns:\n    Computed average dataframes for carrier delay, weather delay, NAS delay, security delay, and late aircraft delay.\n\n\"\"\"\ndef compute_info(airline_data, entered_year):\n    # Select data\n    df =  airline_data[airline_data['Year']==int(entered_year)]\n    # Compute delay averages\n    avg_car = df.groupby(['Month','Reporting_Airline'])['CarrierDelay'].mean().reset_index()\n    avg_weather = df.groupby(['Month','Reporting_Airline'])['WeatherDelay'].mean().reset_index()\n    avg_NAS = df.groupby(['Month','Reporting_Airline'])['NASDelay'].mean().reset_index()\n    avg_sec = df.groupby(['Month','Reporting_Airline'])['SecurityDelay'].mean().reset_index()\n    avg_late = df.groupby(['Month','Reporting_Airline'])['LateAircraftDelay'].mean().reset_index()\n    return avg_car, avg_weather, avg_NAS, avg_sec, avg_late\n\n\"\"\"Callback Function\n\nFunction that returns fugures using the provided input year.\n\nArguments:\n\n    entered_year: Input year provided by the user.\n    \nReturns:\n\n    List of figures computed using the provided helper function `compute_info`.\n\"\"\"\n# Callback decorator\n@app.callback( [\n               Output(component_id='carrier-plot', component_property='figure'),\n               Output(component_id='weather-plot', component_property='figure'),\n               Output(component_id='nas-plot', component_property='figure'),\n               Output(component_id='security-plot', component_property='figure'),\n               Output(component_id='late-plot', component_property='figure')\n               ],\n               Input(component_id='input-year', component_property='value'))\n# Computation to callback function and return graph\ndef get_graph(entered_year):\n    \n    # Compute required information for creating graph from the data\n    avg_car, avg_weather, avg_NAS, avg_sec, avg_late = compute_info(airline_data, entered_year)\n            \n    # Line plot for carrier delay\n    carrier_fig = px.line(avg_car, x='Month', y='CarrierDelay', color='Reporting_Airline', title='Average carrrier delay time (minutes) by airline')\n    # Line plot for weather delay\n    weather_fig = px.line(avg_weather, x='Month', y='WeatherDelay', color='Reporting_Airline', title='Average weather delay time (minutes) by airline')\n    # Line plot for nas delay\n    nas_fig = px.line(avg_NAS, x='Month', y='NASDelay', color='Reporting_Airline', title='Average NAS delay time (minutes) by airline')\n    # Line plot for security delay\n    sec_fig = px.line(avg_sec, x='Month', y='SecurityDelay', color='Reporting_Airline', title='Average security delay time (minutes) by airline')\n    # Line plot for late aircraft delay\n    late_fig = px.line(avg_late, x='Month', y='LateAircraftDelay', color='Reporting_Airline', title='Average late aircraft delay time (minutes) by airline')\n            \n    return[carrier_fig, weather_fig, nas_fig, sec_fig, late_fig]\n\n# Run the app\nif __name__ == '__main__':\n    app.run_server(port=8090)",
      "metadata": {
        "trusted": true
      },
      "outputs": [],
      "execution_count": null
    }
  ]
}