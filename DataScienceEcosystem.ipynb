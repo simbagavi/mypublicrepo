{
 "cells": [
  {
   "cell_type": "markdown",
   "id": "574667e4",
   "metadata": {},
   "source": [
    "# Data Science Tools and Ecosystem"
   ]
  },
  {
   "cell_type": "markdown",
   "id": "bb4d1181",
   "metadata": {},
   "source": [
    "In this notebook, Data Science Tools and Ecosystem are summarized."
   ]
  },
  {
   "cell_type": "markdown",
   "id": "ba494f2b",
   "metadata": {},
   "source": [
    "Some of the popular languages that Data Scientists use are:\n",
    "    <ol>\n",
    "<li>Julia</li>\n",
    "<li>R</li>\n",
    "<li>Python</li>\n",
    "<li>SQL</li>\n",
    "</ol>\n",
    "    \n",
    "    \n",
    "   "
   ]
  },
  {
   "cell_type": "markdown",
   "id": "985b0071",
   "metadata": {},
   "source": [
    "Some of the commonly used libraries used by Data Scientists include:\n",
    "<ol>\n",
    "<li>PyTorch</li>\n",
    "<li>Kera</li>\n",
    "<li>NumPy</li>\n",
    "</ol>\n",
    "    \n",
    "    "
   ]
  },
  {
   "cell_type": "markdown",
   "id": "6a885955",
   "metadata": {},
   "source": [
    "\n",
    "| Data Science Tools |\n",
    "| --- |\n",
    "| R Studio |\n",
    "| Jupyter Notebook |\n",
    "| Apache Airflow |"
   ]
  },
  {
   "cell_type": "markdown",
   "id": "8e600e6a",
   "metadata": {},
   "source": [
    "### Below are a few examples of evaluating arithmetic expressions in Python"
   ]
  },
  {
   "cell_type": "code",
   "execution_count": 3,
   "id": "0fc728ce",
   "metadata": {},
   "outputs": [
    {
     "data": {
      "text/plain": [
       "17"
      ]
     },
     "execution_count": 3,
     "metadata": {},
     "output_type": "execute_result"
    }
   ],
   "source": [
    "# This a simple arithmetic expression to mutiply then add integers\n",
    "\n",
    "(3*4)+5\n"
   ]
  },
  {
   "cell_type": "code",
   "execution_count": 4,
   "id": "967c5694",
   "metadata": {},
   "outputs": [
    {
     "data": {
      "text/plain": [
       "3.3333333333333335"
      ]
     },
     "execution_count": 4,
     "metadata": {},
     "output_type": "execute_result"
    }
   ],
   "source": [
    "# This will convert 200 minutes to hours by diving by 60\n",
    "\n",
    "200/60"
   ]
  },
  {
   "cell_type": "markdown",
   "id": "82af0334",
   "metadata": {},
   "source": [
    "Objectives:\n",
    "\n",
    "<ul>\n",
    "    <li> List tools used in Data Science </li>\n",
    "     <li> List libraries used in Data Science </li>\n",
    "    <li> Evaluate arithmetic expression using Python </li>\n",
    "    </ul>\n",
    "   "
   ]
  },
  {
   "cell_type": "markdown",
   "id": "6c2c0e79",
   "metadata": {},
   "source": [
    "## Author\n",
    "\n",
    "Simba Gavi"
   ]
  }
 ],
 "metadata": {
  "kernelspec": {
   "display_name": "Python 3 (ipykernel)",
   "language": "python",
   "name": "python3"
  },
  "language_info": {
   "codemirror_mode": {
    "name": "ipython",
    "version": 3
   },
   "file_extension": ".py",
   "mimetype": "text/x-python",
   "name": "python",
   "nbconvert_exporter": "python",
   "pygments_lexer": "ipython3",
   "version": "3.11.5"
  }
 },
 "nbformat": 4,
 "nbformat_minor": 5
}
